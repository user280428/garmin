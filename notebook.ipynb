{
 "cells": [
  {
   "cell_type": "markdown",
   "id": "3362c626",
   "metadata": {},
   "source": [
    "# GPX FROM GARMIN\n",
    "___"
   ]
  },
  {
   "cell_type": "code",
   "id": "ab8a2feb",
   "metadata": {
    "ExecuteTime": {
     "end_time": "2025-07-09T14:48:51.608397Z",
     "start_time": "2025-07-09T14:48:51.598134Z"
    }
   },
   "source": [
    "#%pip install --trusted-host files.pythonhosted.org --trusted-host pypi.org --trusted-host pypi.python.org lxml beautifulsoup4 numpy pandas"
   ],
   "outputs": [],
   "execution_count": 1
  },
  {
   "cell_type": "code",
   "id": "d309fb88",
   "metadata": {
    "ExecuteTime": {
     "end_time": "2025-07-09T14:48:52.522260Z",
     "start_time": "2025-07-09T14:48:51.902152Z"
    }
   },
   "source": [
    "from bs4 import BeautifulSoup\n",
    "import numpy as np\n",
    "import pandas as pd"
   ],
   "outputs": [],
   "execution_count": 2
  },
  {
   "cell_type": "markdown",
   "id": "7e9629f4",
   "metadata": {},
   "source": [
    "# FROM FILE TO DF\n",
    "___"
   ]
  },
  {
   "cell_type": "code",
   "id": "c0761ca7",
   "metadata": {
    "ExecuteTime": {
     "end_time": "2025-07-09T14:48:53.280296Z",
     "start_time": "2025-07-09T14:48:53.274244Z"
    }
   },
   "source": [
    "with open(\"gpx/СПУСК.gpx\", \"r\", encoding=\"utf-8\") as f:\n",
    "    text = f.read()"
   ],
   "outputs": [],
   "execution_count": 3
  },
  {
   "cell_type": "code",
   "id": "960f770c",
   "metadata": {
    "ExecuteTime": {
     "end_time": "2025-07-09T14:48:53.806026Z",
     "start_time": "2025-07-09T14:48:53.786615Z"
    }
   },
   "source": [
    "soup = BeautifulSoup(text, \"xml\")"
   ],
   "outputs": [],
   "execution_count": 4
  },
  {
   "cell_type": "code",
   "id": "7deb3400",
   "metadata": {
    "ExecuteTime": {
     "end_time": "2025-07-09T14:48:54.855235Z",
     "start_time": "2025-07-09T14:48:54.841109Z"
    }
   },
   "source": [
    "track = soup.find(\"trk\")"
   ],
   "outputs": [],
   "execution_count": 5
  },
  {
   "cell_type": "code",
   "id": "a621dd63",
   "metadata": {
    "ExecuteTime": {
     "end_time": "2025-07-09T14:48:54.977470Z",
     "start_time": "2025-07-09T14:48:54.963288Z"
    }
   },
   "source": [
    "track_points = track.find_all(\"trkpt\")"
   ],
   "outputs": [],
   "execution_count": 6
  },
  {
   "cell_type": "code",
   "id": "f77b77b0",
   "metadata": {
    "ExecuteTime": {
     "end_time": "2025-07-09T14:48:56.072677Z",
     "start_time": "2025-07-09T14:48:56.066507Z"
    }
   },
   "source": [
    "lat_lst = []\n",
    "lon_lst = []\n",
    "ele_lst = []\n",
    "time_lst = []"
   ],
   "outputs": [],
   "execution_count": 7
  },
  {
   "cell_type": "code",
   "id": "7f5d4ba6",
   "metadata": {
    "ExecuteTime": {
     "end_time": "2025-07-09T14:48:56.824230Z",
     "start_time": "2025-07-09T14:48:56.809996Z"
    }
   },
   "source": [
    "for i, point in enumerate(track_points):\n",
    "    lat_lst.append(point.attrs[\"lat\"])\n",
    "    lon_lst.append(point.attrs[\"lon\"])\n",
    "    ele_lst.append(point.find(\"ele\").text)\n",
    "    time_lst.append(point.find(\"time\").text)"
   ],
   "outputs": [],
   "execution_count": 8
  },
  {
   "cell_type": "code",
   "id": "1f6dcce3",
   "metadata": {
    "ExecuteTime": {
     "end_time": "2025-07-09T14:48:57.720898Z",
     "start_time": "2025-07-09T14:48:57.704701Z"
    }
   },
   "source": [
    "df = pd.DataFrame({\n",
    "    \"lat\": lat_lst,\n",
    "    \"lon\": lon_lst,\n",
    "    \"ele\": ele_lst,\n",
    "    \"datetime\": time_lst\n",
    "})"
   ],
   "outputs": [],
   "execution_count": 9
  },
  {
   "cell_type": "markdown",
   "id": "2299fa40",
   "metadata": {},
   "source": [
    "___\n",
    "# PROCESSING\n",
    "___"
   ]
  },
  {
   "cell_type": "code",
   "id": "dcacfc2d",
   "metadata": {
    "ExecuteTime": {
     "end_time": "2025-07-09T14:51:52.895902Z",
     "start_time": "2025-07-09T14:51:52.882537Z"
    }
   },
   "source": [
    "df[\"lon\"] = df[\"lon\"].astype(float)\n",
    "df[\"lat\"] = df[\"lat\"].astype(float)\n",
    "df[\"ele\"] = df[\"ele\"].astype(float)\n",
    "df[\"datetime\"] = pd.to_datetime(df[\"datetime\"])"
   ],
   "outputs": [],
   "execution_count": 10
  },
  {
   "metadata": {
    "ExecuteTime": {
     "end_time": "2025-07-09T14:52:30.443247Z",
     "start_time": "2025-07-09T14:52:30.432006Z"
    }
   },
   "cell_type": "code",
   "source": [
    "df[\"lat_shift\"] = df[\"lat\"].shift()\n",
    "df[\"lon_shift\"] = df[\"lon\"].shift()"
   ],
   "id": "cb6af4f80e59711c",
   "outputs": [],
   "execution_count": 14
  },
  {
   "metadata": {
    "ExecuteTime": {
     "end_time": "2025-07-09T14:52:34.133044Z",
     "start_time": "2025-07-09T14:52:34.117560Z"
    }
   },
   "cell_type": "code",
   "source": "df",
   "id": "12c3dff97c76daab",
   "outputs": [
    {
     "data": {
      "text/plain": [
       "          lat        lon     ele                  datetime  lat_shift  \\\n",
       "0   55.509563  38.346976  125.11 2025-07-07 16:57:30+00:00        NaN   \n",
       "1   55.509550  38.346937  125.59 2025-07-07 16:57:36+00:00  55.509563   \n",
       "2   55.509575  38.346850  125.11 2025-07-07 16:57:38+00:00  55.509550   \n",
       "3   55.509590  38.346827  125.11 2025-07-07 16:57:39+00:00  55.509575   \n",
       "4   55.510107  38.346077  125.11 2025-07-07 16:57:55+00:00  55.509590   \n",
       "5   55.510255  38.345885  125.11 2025-07-07 16:57:59+00:00  55.510107   \n",
       "6   55.510292  38.345845  125.11 2025-07-07 16:58:00+00:00  55.510255   \n",
       "7   55.510814  38.345078  124.15 2025-07-07 16:58:15+00:00  55.510292   \n",
       "8   55.511246  38.344313  123.67 2025-07-07 16:58:32+00:00  55.510814   \n",
       "9   55.511442  38.343974  123.67 2025-07-07 16:58:45+00:00  55.511246   \n",
       "10  55.511435  38.343995  122.71 2025-07-07 16:59:15+00:00  55.511442   \n",
       "\n",
       "    lon_shift  \n",
       "0         NaN  \n",
       "1   38.346976  \n",
       "2   38.346937  \n",
       "3   38.346850  \n",
       "4   38.346827  \n",
       "5   38.346077  \n",
       "6   38.345885  \n",
       "7   38.345845  \n",
       "8   38.345078  \n",
       "9   38.344313  \n",
       "10  38.343974  "
      ],
      "text/html": [
       "<div>\n",
       "<style scoped>\n",
       "    .dataframe tbody tr th:only-of-type {\n",
       "        vertical-align: middle;\n",
       "    }\n",
       "\n",
       "    .dataframe tbody tr th {\n",
       "        vertical-align: top;\n",
       "    }\n",
       "\n",
       "    .dataframe thead th {\n",
       "        text-align: right;\n",
       "    }\n",
       "</style>\n",
       "<table border=\"1\" class=\"dataframe\">\n",
       "  <thead>\n",
       "    <tr style=\"text-align: right;\">\n",
       "      <th></th>\n",
       "      <th>lat</th>\n",
       "      <th>lon</th>\n",
       "      <th>ele</th>\n",
       "      <th>datetime</th>\n",
       "      <th>lat_shift</th>\n",
       "      <th>lon_shift</th>\n",
       "    </tr>\n",
       "  </thead>\n",
       "  <tbody>\n",
       "    <tr>\n",
       "      <th>0</th>\n",
       "      <td>55.509563</td>\n",
       "      <td>38.346976</td>\n",
       "      <td>125.11</td>\n",
       "      <td>2025-07-07 16:57:30+00:00</td>\n",
       "      <td>NaN</td>\n",
       "      <td>NaN</td>\n",
       "    </tr>\n",
       "    <tr>\n",
       "      <th>1</th>\n",
       "      <td>55.509550</td>\n",
       "      <td>38.346937</td>\n",
       "      <td>125.59</td>\n",
       "      <td>2025-07-07 16:57:36+00:00</td>\n",
       "      <td>55.509563</td>\n",
       "      <td>38.346976</td>\n",
       "    </tr>\n",
       "    <tr>\n",
       "      <th>2</th>\n",
       "      <td>55.509575</td>\n",
       "      <td>38.346850</td>\n",
       "      <td>125.11</td>\n",
       "      <td>2025-07-07 16:57:38+00:00</td>\n",
       "      <td>55.509550</td>\n",
       "      <td>38.346937</td>\n",
       "    </tr>\n",
       "    <tr>\n",
       "      <th>3</th>\n",
       "      <td>55.509590</td>\n",
       "      <td>38.346827</td>\n",
       "      <td>125.11</td>\n",
       "      <td>2025-07-07 16:57:39+00:00</td>\n",
       "      <td>55.509575</td>\n",
       "      <td>38.346850</td>\n",
       "    </tr>\n",
       "    <tr>\n",
       "      <th>4</th>\n",
       "      <td>55.510107</td>\n",
       "      <td>38.346077</td>\n",
       "      <td>125.11</td>\n",
       "      <td>2025-07-07 16:57:55+00:00</td>\n",
       "      <td>55.509590</td>\n",
       "      <td>38.346827</td>\n",
       "    </tr>\n",
       "    <tr>\n",
       "      <th>5</th>\n",
       "      <td>55.510255</td>\n",
       "      <td>38.345885</td>\n",
       "      <td>125.11</td>\n",
       "      <td>2025-07-07 16:57:59+00:00</td>\n",
       "      <td>55.510107</td>\n",
       "      <td>38.346077</td>\n",
       "    </tr>\n",
       "    <tr>\n",
       "      <th>6</th>\n",
       "      <td>55.510292</td>\n",
       "      <td>38.345845</td>\n",
       "      <td>125.11</td>\n",
       "      <td>2025-07-07 16:58:00+00:00</td>\n",
       "      <td>55.510255</td>\n",
       "      <td>38.345885</td>\n",
       "    </tr>\n",
       "    <tr>\n",
       "      <th>7</th>\n",
       "      <td>55.510814</td>\n",
       "      <td>38.345078</td>\n",
       "      <td>124.15</td>\n",
       "      <td>2025-07-07 16:58:15+00:00</td>\n",
       "      <td>55.510292</td>\n",
       "      <td>38.345845</td>\n",
       "    </tr>\n",
       "    <tr>\n",
       "      <th>8</th>\n",
       "      <td>55.511246</td>\n",
       "      <td>38.344313</td>\n",
       "      <td>123.67</td>\n",
       "      <td>2025-07-07 16:58:32+00:00</td>\n",
       "      <td>55.510814</td>\n",
       "      <td>38.345078</td>\n",
       "    </tr>\n",
       "    <tr>\n",
       "      <th>9</th>\n",
       "      <td>55.511442</td>\n",
       "      <td>38.343974</td>\n",
       "      <td>123.67</td>\n",
       "      <td>2025-07-07 16:58:45+00:00</td>\n",
       "      <td>55.511246</td>\n",
       "      <td>38.344313</td>\n",
       "    </tr>\n",
       "    <tr>\n",
       "      <th>10</th>\n",
       "      <td>55.511435</td>\n",
       "      <td>38.343995</td>\n",
       "      <td>122.71</td>\n",
       "      <td>2025-07-07 16:59:15+00:00</td>\n",
       "      <td>55.511442</td>\n",
       "      <td>38.343974</td>\n",
       "    </tr>\n",
       "  </tbody>\n",
       "</table>\n",
       "</div>"
      ]
     },
     "execution_count": 15,
     "metadata": {},
     "output_type": "execute_result"
    }
   ],
   "execution_count": 15
  },
  {
   "cell_type": "code",
   "id": "d803b8d9",
   "metadata": {
    "ExecuteTime": {
     "end_time": "2025-07-09T14:55:35.718886Z",
     "start_time": "2025-07-09T14:55:35.704608Z"
    }
   },
   "source": [
    "def dr(row):\n",
    "    \n",
    "    r = 6_371_000\n",
    "    \n",
    "    lat_1 = np.radians(row[\"lat\"])\n",
    "    lon_1 = np.radians(row[\"lon\"])\n",
    "    lat_2 = np.radians(row[\"lat_shift\"])\n",
    "    lon_2 = np.radians(row[\"lon_shift\"])\n",
    "    \n",
    "\n",
    "\n",
    "    \n",
    "    l = r * np.arccos(\n",
    "        np.sin(lat_1) * np.sin(lat_2) + np.cos(lat_1) * np.cos(lat_2) * np.cos(lon_1 - lon_2)\n",
    "    )\n",
    "    \n",
    "    return l"
   ],
   "outputs": [],
   "execution_count": 19
  },
  {
   "cell_type": "code",
   "id": "20c52f45",
   "metadata": {
    "ExecuteTime": {
     "end_time": "2025-07-09T14:55:36.136494Z",
     "start_time": "2025-07-09T14:55:36.116178Z"
    }
   },
   "source": "df[\"dr\"] = df.apply(dr, axis=1)",
   "outputs": [],
   "execution_count": 20
  },
  {
   "metadata": {
    "ExecuteTime": {
     "end_time": "2025-07-09T14:55:39.926316Z",
     "start_time": "2025-07-09T14:55:39.900992Z"
    }
   },
   "cell_type": "code",
   "source": "df",
   "id": "2ae3a34758bb036e",
   "outputs": [
    {
     "data": {
      "text/plain": [
       "          lat        lon     ele                  datetime  lat_shift  \\\n",
       "0   55.509563  38.346976  125.11 2025-07-07 16:57:30+00:00        NaN   \n",
       "1   55.509550  38.346937  125.59 2025-07-07 16:57:36+00:00  55.509563   \n",
       "2   55.509575  38.346850  125.11 2025-07-07 16:57:38+00:00  55.509550   \n",
       "3   55.509590  38.346827  125.11 2025-07-07 16:57:39+00:00  55.509575   \n",
       "4   55.510107  38.346077  125.11 2025-07-07 16:57:55+00:00  55.509590   \n",
       "5   55.510255  38.345885  125.11 2025-07-07 16:57:59+00:00  55.510107   \n",
       "6   55.510292  38.345845  125.11 2025-07-07 16:58:00+00:00  55.510255   \n",
       "7   55.510814  38.345078  124.15 2025-07-07 16:58:15+00:00  55.510292   \n",
       "8   55.511246  38.344313  123.67 2025-07-07 16:58:32+00:00  55.510814   \n",
       "9   55.511442  38.343974  123.67 2025-07-07 16:58:45+00:00  55.511246   \n",
       "10  55.511435  38.343995  122.71 2025-07-07 16:59:15+00:00  55.511442   \n",
       "\n",
       "    lon_shift         dr  \n",
       "0         NaN        NaN  \n",
       "1   38.346976   2.893581  \n",
       "2   38.346937   6.145915  \n",
       "3   38.346850   2.150237  \n",
       "4   38.346827  74.368825  \n",
       "5   38.346077  20.438227  \n",
       "6   38.345885   4.912844  \n",
       "7   38.345845  75.444120  \n",
       "8   38.345078  68.052784  \n",
       "9   38.344313  30.525057  \n",
       "10  38.343974   1.582888  "
      ],
      "text/html": [
       "<div>\n",
       "<style scoped>\n",
       "    .dataframe tbody tr th:only-of-type {\n",
       "        vertical-align: middle;\n",
       "    }\n",
       "\n",
       "    .dataframe tbody tr th {\n",
       "        vertical-align: top;\n",
       "    }\n",
       "\n",
       "    .dataframe thead th {\n",
       "        text-align: right;\n",
       "    }\n",
       "</style>\n",
       "<table border=\"1\" class=\"dataframe\">\n",
       "  <thead>\n",
       "    <tr style=\"text-align: right;\">\n",
       "      <th></th>\n",
       "      <th>lat</th>\n",
       "      <th>lon</th>\n",
       "      <th>ele</th>\n",
       "      <th>datetime</th>\n",
       "      <th>lat_shift</th>\n",
       "      <th>lon_shift</th>\n",
       "      <th>dr</th>\n",
       "    </tr>\n",
       "  </thead>\n",
       "  <tbody>\n",
       "    <tr>\n",
       "      <th>0</th>\n",
       "      <td>55.509563</td>\n",
       "      <td>38.346976</td>\n",
       "      <td>125.11</td>\n",
       "      <td>2025-07-07 16:57:30+00:00</td>\n",
       "      <td>NaN</td>\n",
       "      <td>NaN</td>\n",
       "      <td>NaN</td>\n",
       "    </tr>\n",
       "    <tr>\n",
       "      <th>1</th>\n",
       "      <td>55.509550</td>\n",
       "      <td>38.346937</td>\n",
       "      <td>125.59</td>\n",
       "      <td>2025-07-07 16:57:36+00:00</td>\n",
       "      <td>55.509563</td>\n",
       "      <td>38.346976</td>\n",
       "      <td>2.893581</td>\n",
       "    </tr>\n",
       "    <tr>\n",
       "      <th>2</th>\n",
       "      <td>55.509575</td>\n",
       "      <td>38.346850</td>\n",
       "      <td>125.11</td>\n",
       "      <td>2025-07-07 16:57:38+00:00</td>\n",
       "      <td>55.509550</td>\n",
       "      <td>38.346937</td>\n",
       "      <td>6.145915</td>\n",
       "    </tr>\n",
       "    <tr>\n",
       "      <th>3</th>\n",
       "      <td>55.509590</td>\n",
       "      <td>38.346827</td>\n",
       "      <td>125.11</td>\n",
       "      <td>2025-07-07 16:57:39+00:00</td>\n",
       "      <td>55.509575</td>\n",
       "      <td>38.346850</td>\n",
       "      <td>2.150237</td>\n",
       "    </tr>\n",
       "    <tr>\n",
       "      <th>4</th>\n",
       "      <td>55.510107</td>\n",
       "      <td>38.346077</td>\n",
       "      <td>125.11</td>\n",
       "      <td>2025-07-07 16:57:55+00:00</td>\n",
       "      <td>55.509590</td>\n",
       "      <td>38.346827</td>\n",
       "      <td>74.368825</td>\n",
       "    </tr>\n",
       "    <tr>\n",
       "      <th>5</th>\n",
       "      <td>55.510255</td>\n",
       "      <td>38.345885</td>\n",
       "      <td>125.11</td>\n",
       "      <td>2025-07-07 16:57:59+00:00</td>\n",
       "      <td>55.510107</td>\n",
       "      <td>38.346077</td>\n",
       "      <td>20.438227</td>\n",
       "    </tr>\n",
       "    <tr>\n",
       "      <th>6</th>\n",
       "      <td>55.510292</td>\n",
       "      <td>38.345845</td>\n",
       "      <td>125.11</td>\n",
       "      <td>2025-07-07 16:58:00+00:00</td>\n",
       "      <td>55.510255</td>\n",
       "      <td>38.345885</td>\n",
       "      <td>4.912844</td>\n",
       "    </tr>\n",
       "    <tr>\n",
       "      <th>7</th>\n",
       "      <td>55.510814</td>\n",
       "      <td>38.345078</td>\n",
       "      <td>124.15</td>\n",
       "      <td>2025-07-07 16:58:15+00:00</td>\n",
       "      <td>55.510292</td>\n",
       "      <td>38.345845</td>\n",
       "      <td>75.444120</td>\n",
       "    </tr>\n",
       "    <tr>\n",
       "      <th>8</th>\n",
       "      <td>55.511246</td>\n",
       "      <td>38.344313</td>\n",
       "      <td>123.67</td>\n",
       "      <td>2025-07-07 16:58:32+00:00</td>\n",
       "      <td>55.510814</td>\n",
       "      <td>38.345078</td>\n",
       "      <td>68.052784</td>\n",
       "    </tr>\n",
       "    <tr>\n",
       "      <th>9</th>\n",
       "      <td>55.511442</td>\n",
       "      <td>38.343974</td>\n",
       "      <td>123.67</td>\n",
       "      <td>2025-07-07 16:58:45+00:00</td>\n",
       "      <td>55.511246</td>\n",
       "      <td>38.344313</td>\n",
       "      <td>30.525057</td>\n",
       "    </tr>\n",
       "    <tr>\n",
       "      <th>10</th>\n",
       "      <td>55.511435</td>\n",
       "      <td>38.343995</td>\n",
       "      <td>122.71</td>\n",
       "      <td>2025-07-07 16:59:15+00:00</td>\n",
       "      <td>55.511442</td>\n",
       "      <td>38.343974</td>\n",
       "      <td>1.582888</td>\n",
       "    </tr>\n",
       "  </tbody>\n",
       "</table>\n",
       "</div>"
      ]
     },
     "execution_count": 21,
     "metadata": {},
     "output_type": "execute_result"
    }
   ],
   "execution_count": 21
  },
  {
   "cell_type": "code",
   "id": "9d621f4c",
   "metadata": {
    "ExecuteTime": {
     "end_time": "2025-07-09T14:55:59.675477Z",
     "start_time": "2025-07-09T14:55:59.658054Z"
    }
   },
   "source": [
    "df[\"dt\"] = df[\"datetime\"].diff().dt.total_seconds().fillna(0)"
   ],
   "outputs": [],
   "execution_count": 22
  },
  {
   "cell_type": "code",
   "id": "edac4bb6",
   "metadata": {
    "ExecuteTime": {
     "end_time": "2025-07-09T14:56:00.219873Z",
     "start_time": "2025-07-09T14:56:00.210704Z"
    }
   },
   "source": [
    "df[\"speed\"] = round( ( df[\"dr\"] / + df[\"dt\"] ) * 3.6 , 2)"
   ],
   "outputs": [],
   "execution_count": 23
  },
  {
   "cell_type": "code",
   "id": "80190120",
   "metadata": {
    "ExecuteTime": {
     "end_time": "2025-07-09T14:56:00.743213Z",
     "start_time": "2025-07-09T14:56:00.737002Z"
    }
   },
   "source": [
    "df = df.fillna(0)"
   ],
   "outputs": [],
   "execution_count": 24
  },
  {
   "cell_type": "code",
   "id": "db851d36",
   "metadata": {
    "ExecuteTime": {
     "end_time": "2025-07-09T14:56:01.359342Z",
     "start_time": "2025-07-09T14:56:01.351347Z"
    }
   },
   "source": [
    "df[\"ele_diff\"] = df[\"ele\"].diff()"
   ],
   "outputs": [],
   "execution_count": 25
  },
  {
   "cell_type": "markdown",
   "id": "947761b2",
   "metadata": {},
   "source": [
    "___\n",
    "# DATA\n",
    "___"
   ]
  },
  {
   "cell_type": "markdown",
   "id": "eb6526af",
   "metadata": {},
   "source": [
    "- DISTANCE BY GARMIN"
   ]
  },
  {
   "cell_type": "code",
   "id": "f078a64f",
   "metadata": {
    "ExecuteTime": {
     "end_time": "2025-07-09T14:56:03.392962Z",
     "start_time": "2025-07-09T14:56:03.382844Z"
    }
   },
   "source": [
    "distance = track.find(\"gpxtrkx:Distance\").text\n",
    "print ( \"\\t\", distance )"
   ],
   "outputs": [
    {
     "name": "stdout",
     "output_type": "stream",
     "text": [
      "\t 287\n"
     ]
    }
   ],
   "execution_count": 26
  },
  {
   "cell_type": "markdown",
   "id": "50e4921d",
   "metadata": {},
   "source": [
    "- N POINTS"
   ]
  },
  {
   "cell_type": "code",
   "id": "296f6a01",
   "metadata": {
    "ExecuteTime": {
     "end_time": "2025-07-09T14:56:05.371762Z",
     "start_time": "2025-07-09T14:56:05.365535Z"
    }
   },
   "source": [
    "n_points = df[\"lat\"].count()\n",
    "print ( \"\\t\", n_points )"
   ],
   "outputs": [
    {
     "name": "stdout",
     "output_type": "stream",
     "text": [
      "\t 11\n"
     ]
    }
   ],
   "execution_count": 27
  },
  {
   "cell_type": "markdown",
   "id": "4c93d0d2",
   "metadata": {},
   "source": [
    "- TRACK NAME"
   ]
  },
  {
   "cell_type": "code",
   "id": "d91d48c6",
   "metadata": {
    "ExecuteTime": {
     "end_time": "2025-07-09T14:56:06.452266Z",
     "start_time": "2025-07-09T14:56:06.437837Z"
    }
   },
   "source": [
    "track_name = track.find(\"name\").text\n",
    "print ( \"\\t\", track_name )"
   ],
   "outputs": [
    {
     "name": "stdout",
     "output_type": "stream",
     "text": [
      "\t СПУСК\n"
     ]
    }
   ],
   "execution_count": 28
  },
  {
   "cell_type": "markdown",
   "id": "e7df3295",
   "metadata": {},
   "source": [
    "- MAX SPEED"
   ]
  },
  {
   "cell_type": "code",
   "id": "6b85b5d8",
   "metadata": {
    "ExecuteTime": {
     "end_time": "2025-07-09T14:56:08.093517Z",
     "start_time": "2025-07-09T14:56:08.078064Z"
    }
   },
   "source": [
    "max_speed = df[\"speed\"].max()\n",
    "print ( \"\\t\", max_speed )"
   ],
   "outputs": [
    {
     "name": "stdout",
     "output_type": "stream",
     "text": [
      "\t 18.39\n"
     ]
    }
   ],
   "execution_count": 29
  },
  {
   "cell_type": "markdown",
   "id": "9adc784f",
   "metadata": {},
   "source": [
    "- AVG SPEED"
   ]
  },
  {
   "cell_type": "code",
   "id": "cdf86817",
   "metadata": {
    "ExecuteTime": {
     "end_time": "2025-07-09T14:56:11.095829Z",
     "start_time": "2025-07-09T14:56:11.061478Z"
    }
   },
   "source": [
    "avg_speed = round( df[\"dr\"].sum() / df[\"dt\"].sum() * 3.6, 2)\n",
    "print ( \"\\t\", avg_speed )"
   ],
   "outputs": [
    {
     "name": "stdout",
     "output_type": "stream",
     "text": [
      "\t 9.82\n"
     ]
    }
   ],
   "execution_count": 30
  },
  {
   "cell_type": "markdown",
   "id": "a4d448a9",
   "metadata": {},
   "source": [
    "- DISTANCE"
   ]
  },
  {
   "cell_type": "code",
   "id": "52d1265a",
   "metadata": {
    "ExecuteTime": {
     "end_time": "2025-07-09T14:56:14.127489Z",
     "start_time": "2025-07-09T14:56:14.117316Z"
    }
   },
   "source": [
    "distance = round( df[\"dr\"].sum(), 2)\n",
    "print ( \"\\t\", distance )"
   ],
   "outputs": [
    {
     "name": "stdout",
     "output_type": "stream",
     "text": [
      "\t 286.51\n"
     ]
    }
   ],
   "execution_count": 31
  },
  {
   "cell_type": "markdown",
   "id": "39d84ef9",
   "metadata": {},
   "source": [
    "- LONGEST PART"
   ]
  },
  {
   "cell_type": "code",
   "id": "d25e92a2",
   "metadata": {
    "ExecuteTime": {
     "end_time": "2025-07-09T14:56:23.958728Z",
     "start_time": "2025-07-09T14:56:23.949467Z"
    }
   },
   "source": [
    "longest_part = round( df[\"dr\"].max(), 2)\n",
    "print ( \"\\t\", longest_part )"
   ],
   "outputs": [
    {
     "name": "stdout",
     "output_type": "stream",
     "text": [
      "\t 75.44\n"
     ]
    }
   ],
   "execution_count": 32
  },
  {
   "cell_type": "markdown",
   "id": "a2cec1fe",
   "metadata": {},
   "source": [
    "- SMALLEST PART"
   ]
  },
  {
   "cell_type": "code",
   "id": "4ca21878",
   "metadata": {
    "ExecuteTime": {
     "end_time": "2025-07-09T14:56:32.551176Z",
     "start_time": "2025-07-09T14:56:32.533576Z"
    }
   },
   "source": [
    "longest_part = round( df[\"dr\"].min(), 2)\n",
    "print ( \"\\t\", longest_part )"
   ],
   "outputs": [
    {
     "name": "stdout",
     "output_type": "stream",
     "text": [
      "\t 0.0\n"
     ]
    }
   ],
   "execution_count": 33
  },
  {
   "cell_type": "markdown",
   "id": "85689727",
   "metadata": {},
   "source": [
    "- LONGEST TIME"
   ]
  },
  {
   "cell_type": "code",
   "id": "669c5d6e",
   "metadata": {
    "ExecuteTime": {
     "end_time": "2025-07-09T14:56:33.607009Z",
     "start_time": "2025-07-09T14:56:33.589729Z"
    }
   },
   "source": [
    "longest_time = round( df[\"dt\"].max(), 2)\n",
    "print ( \"\\t\", longest_time )"
   ],
   "outputs": [
    {
     "name": "stdout",
     "output_type": "stream",
     "text": [
      "\t 30.0\n"
     ]
    }
   ],
   "execution_count": 34
  },
  {
   "cell_type": "markdown",
   "id": "120d1390",
   "metadata": {},
   "source": [
    "- SMALLEST TIME"
   ]
  },
  {
   "cell_type": "code",
   "id": "e90d968e",
   "metadata": {
    "ExecuteTime": {
     "end_time": "2025-07-09T14:56:34.613107Z",
     "start_time": "2025-07-09T14:56:34.598911Z"
    }
   },
   "source": [
    "smallest_time = round( df[\"dt\"].min(), 2)\n",
    "print ( \"\\t\", smallest_time )"
   ],
   "outputs": [
    {
     "name": "stdout",
     "output_type": "stream",
     "text": [
      "\t 0.0\n"
     ]
    }
   ],
   "execution_count": 35
  },
  {
   "cell_type": "markdown",
   "id": "f0f4232c",
   "metadata": {},
   "source": [
    "- TOTAL TIME"
   ]
  },
  {
   "cell_type": "code",
   "id": "9cdea464",
   "metadata": {
    "ExecuteTime": {
     "end_time": "2025-07-09T14:56:35.651299Z",
     "start_time": "2025-07-09T14:56:35.645117Z"
    }
   },
   "source": [
    "total_time = df[\"dt\"].sum()\n",
    "hours = total_time // 3600\n",
    "minutes = ( total_time % 3600 ) // 60\n",
    "seconds = int(( total_time % 3600 ) % 60)\n",
    "print (\"\\t\", int( total_time ), \"s\")\n",
    "print (\"\\t\", round( total_time / 60, 2 ), \"m\")\n",
    "print (\"\\t\", round( total_time / 3600, 2 ), \"h\")\n",
    "print (\"\\t\", hours, \"h\", minutes, \"m\", seconds, \"s\")"
   ],
   "outputs": [
    {
     "name": "stdout",
     "output_type": "stream",
     "text": [
      "\t 105 s\n",
      "\t 1.75 m\n",
      "\t 0.03 h\n",
      "\t 0.0 h 1.0 m 45 s\n"
     ]
    }
   ],
   "execution_count": 36
  },
  {
   "cell_type": "markdown",
   "id": "26ac25f5",
   "metadata": {},
   "source": [
    "- MIN ELEVATION"
   ]
  },
  {
   "cell_type": "code",
   "id": "13bb06bf",
   "metadata": {
    "ExecuteTime": {
     "end_time": "2025-07-09T14:56:37.534660Z",
     "start_time": "2025-07-09T14:56:37.520499Z"
    }
   },
   "source": [
    "min_ele = df[\"ele\"].min()\n",
    "print ( \"\\t\", min_ele )"
   ],
   "outputs": [
    {
     "name": "stdout",
     "output_type": "stream",
     "text": [
      "\t 122.71\n"
     ]
    }
   ],
   "execution_count": 37
  },
  {
   "cell_type": "markdown",
   "id": "7b187b82",
   "metadata": {},
   "source": [
    "- MAX ELE"
   ]
  },
  {
   "cell_type": "code",
   "execution_count": 123,
   "id": "5dec9673",
   "metadata": {},
   "outputs": [
    {
     "name": "stdout",
     "output_type": "stream",
     "text": [
      "\t 125.59\n"
     ]
    }
   ],
   "source": [
    "max_ele = df[\"ele\"].max()\n",
    "print ( \"\\t\", max_ele )"
   ]
  },
  {
   "cell_type": "markdown",
   "id": "2d28f378",
   "metadata": {},
   "source": [
    "- DOWN DISTANCE"
   ]
  },
  {
   "cell_type": "code",
   "execution_count": 124,
   "id": "88cf073e",
   "metadata": {},
   "outputs": [
    {
     "name": "stdout",
     "output_type": "stream",
     "text": [
      "\t 2.88\n"
     ]
    }
   ],
   "source": [
    "down_distance = -round( df[ df[\"ele_diff\"] < 0 ][\"ele_diff\"].sum(), 2 )\n",
    "print ( \"\\t\", down_distance )"
   ]
  },
  {
   "cell_type": "markdown",
   "id": "9a6d2ae4",
   "metadata": {},
   "source": [
    "- UP DISTANCE"
   ]
  },
  {
   "cell_type": "code",
   "execution_count": 125,
   "id": "30af5d3d",
   "metadata": {},
   "outputs": [
    {
     "name": "stdout",
     "output_type": "stream",
     "text": [
      "\t 0.48\n"
     ]
    }
   ],
   "source": [
    "up_distance = round( df[ df[\"ele_diff\"] > 0 ][\"ele_diff\"].sum(), 2 )\n",
    "print ( \"\\t\", up_distance )"
   ]
  },
  {
   "cell_type": "markdown",
   "id": "4407c635",
   "metadata": {},
   "source": [
    "___"
   ]
  },
  {
   "cell_type": "code",
   "execution_count": 126,
   "id": "ffde43b9",
   "metadata": {},
   "outputs": [],
   "source": [
    "with open(f\"{track_name}.txt\", \"w\", encoding=\"UTF-8\") as f:\n",
    "    f.write(f\"Поход {track_name}\\n\"\n",
    "            f\"Пройденное расстояние - {distance} м\\n\"\n",
    "            f\"Средняя скорость - {avg_speed} км/ч\\n\"\n",
    "            f\"Максимальная скорость - {max_speed} км/ч\\n\"\n",
    "            f\"Время похода - {hours} ч, {minutes} м, {seconds} с\\n\"\n",
    "            f\"Самая большая высота - {max_ele} м\\n\"\n",
    "            f\"Самая маленькая высота - {min_ele} м\\n\"\n",
    "            f\"Спуск - {down_distance} м\\n\"\n",
    "            f\"Подъем - {up_distance} м\\n\"\n",
    "            )\n"
   ]
  },
  {
   "cell_type": "code",
   "execution_count": 89,
   "id": "4576c33f",
   "metadata": {},
   "outputs": [
    {
     "data": {
      "text/plain": [
       "(np.float64(2838784.550004626),\n",
       " np.float64(2246046.6231034175),\n",
       " np.float64(5233946.618223295))"
      ]
     },
     "execution_count": 89,
     "metadata": {},
     "output_type": "execute_result"
    }
   ],
   "source": [
    "df[\"coords\"][0]"
   ]
  },
  {
   "cell_type": "code",
   "execution_count": 90,
   "id": "6bc53211",
   "metadata": {},
   "outputs": [
    {
     "data": {
      "text/plain": [
       "(np.float64(2838785.7818863746),\n",
       " np.float64(2246046.3552860897),\n",
       " np.float64(5233944.321645297))"
      ]
     },
     "execution_count": 90,
     "metadata": {},
     "output_type": "execute_result"
    }
   ],
   "source": [
    "df[\"coords\"][1]"
   ]
  },
  {
   "cell_type": "code",
   "execution_count": 91,
   "id": "6c48eec7",
   "metadata": {},
   "outputs": [
    {
     "data": {
      "text/html": [
       "<div>\n",
       "<style scoped>\n",
       "    .dataframe tbody tr th:only-of-type {\n",
       "        vertical-align: middle;\n",
       "    }\n",
       "\n",
       "    .dataframe tbody tr th {\n",
       "        vertical-align: top;\n",
       "    }\n",
       "\n",
       "    .dataframe thead th {\n",
       "        text-align: right;\n",
       "    }\n",
       "</style>\n",
       "<table border=\"1\" class=\"dataframe\">\n",
       "  <thead>\n",
       "    <tr style=\"text-align: right;\">\n",
       "      <th></th>\n",
       "      <th>lat</th>\n",
       "      <th>lon</th>\n",
       "      <th>ele</th>\n",
       "      <th>datetime</th>\n",
       "      <th>coords</th>\n",
       "      <th>dr</th>\n",
       "      <th>dt</th>\n",
       "      <th>speed</th>\n",
       "      <th>ele_diff</th>\n",
       "    </tr>\n",
       "  </thead>\n",
       "  <tbody>\n",
       "    <tr>\n",
       "      <th>0</th>\n",
       "      <td>55.511593</td>\n",
       "      <td>38.351049</td>\n",
       "      <td>126.07</td>\n",
       "      <td>2025-07-07 16:55:39+00:00</td>\n",
       "      <td>(2838784.550004626, 2246046.6231034175, 523394...</td>\n",
       "      <td>0.000000</td>\n",
       "      <td>0.0</td>\n",
       "      <td>0.00</td>\n",
       "      <td>NaN</td>\n",
       "    </tr>\n",
       "    <tr>\n",
       "      <th>1</th>\n",
       "      <td>55.511576</td>\n",
       "      <td>38.351033</td>\n",
       "      <td>124.63</td>\n",
       "      <td>2025-07-07 16:55:49+00:00</td>\n",
       "      <td>(2838785.7818863746, 2246046.3552860897, 52339...</td>\n",
       "      <td>1.260658</td>\n",
       "      <td>10.0</td>\n",
       "      <td>0.45</td>\n",
       "      <td>-1.44</td>\n",
       "    </tr>\n",
       "    <tr>\n",
       "      <th>2</th>\n",
       "      <td>55.511498</td>\n",
       "      <td>38.350881</td>\n",
       "      <td>124.15</td>\n",
       "      <td>2025-07-07 16:55:54+00:00</td>\n",
       "      <td>(2838797.0989851807, 2246043.080349284, 523393...</td>\n",
       "      <td>11.781423</td>\n",
       "      <td>5.0</td>\n",
       "      <td>8.48</td>\n",
       "      <td>-0.48</td>\n",
       "    </tr>\n",
       "    <tr>\n",
       "      <th>3</th>\n",
       "      <td>55.511466</td>\n",
       "      <td>38.350815</td>\n",
       "      <td>124.15</td>\n",
       "      <td>2025-07-07 16:55:55+00:00</td>\n",
       "      <td>(2838802.0072532278, 2246041.6494307937, 52339...</td>\n",
       "      <td>5.112595</td>\n",
       "      <td>1.0</td>\n",
       "      <td>18.41</td>\n",
       "      <td>0.00</td>\n",
       "    </tr>\n",
       "    <tr>\n",
       "      <th>4</th>\n",
       "      <td>55.511447</td>\n",
       "      <td>38.350779</td>\n",
       "      <td>124.15</td>\n",
       "      <td>2025-07-07 16:55:56+00:00</td>\n",
       "      <td>(2838804.7510274854, 2246040.8964052177, 52339...</td>\n",
       "      <td>2.845232</td>\n",
       "      <td>1.0</td>\n",
       "      <td>10.24</td>\n",
       "      <td>0.00</td>\n",
       "    </tr>\n",
       "    <tr>\n",
       "      <th>5</th>\n",
       "      <td>55.511083</td>\n",
       "      <td>38.350064</td>\n",
       "      <td>124.15</td>\n",
       "      <td>2025-07-07 16:56:09+00:00</td>\n",
       "      <td>(2838859.0353345186, 2246026.1981024113, 52339...</td>\n",
       "      <td>56.239009</td>\n",
       "      <td>13.0</td>\n",
       "      <td>15.57</td>\n",
       "      <td>0.00</td>\n",
       "    </tr>\n",
       "    <tr>\n",
       "      <th>6</th>\n",
       "      <td>55.510495</td>\n",
       "      <td>38.348898</td>\n",
       "      <td>123.67</td>\n",
       "      <td>2025-07-07 16:56:28+00:00</td>\n",
       "      <td>(2838946.830385684, 2246001.7288516024, 523387...</td>\n",
       "      <td>91.141183</td>\n",
       "      <td>19.0</td>\n",
       "      <td>17.27</td>\n",
       "      <td>-0.48</td>\n",
       "    </tr>\n",
       "    <tr>\n",
       "      <th>7</th>\n",
       "      <td>55.510009</td>\n",
       "      <td>38.347936</td>\n",
       "      <td>123.19</td>\n",
       "      <td>2025-07-07 16:56:45+00:00</td>\n",
       "      <td>(2839019.263178489, 2245981.600184811, 5233844...</td>\n",
       "      <td>75.177608</td>\n",
       "      <td>17.0</td>\n",
       "      <td>15.92</td>\n",
       "      <td>-0.48</td>\n",
       "    </tr>\n",
       "    <tr>\n",
       "      <th>8</th>\n",
       "      <td>55.509615</td>\n",
       "      <td>38.347114</td>\n",
       "      <td>123.19</td>\n",
       "      <td>2025-07-07 16:57:02+00:00</td>\n",
       "      <td>(2839079.8752401075, 2245963.287195691, 523381...</td>\n",
       "      <td>63.318146</td>\n",
       "      <td>17.0</td>\n",
       "      <td>13.41</td>\n",
       "      <td>0.00</td>\n",
       "    </tr>\n",
       "    <tr>\n",
       "      <th>9</th>\n",
       "      <td>55.509560</td>\n",
       "      <td>38.347023</td>\n",
       "      <td>124.15</td>\n",
       "      <td>2025-07-07 16:57:13+00:00</td>\n",
       "      <td>(2839087.803399175, 2245962.212242962, 5233816...</td>\n",
       "      <td>8.000702</td>\n",
       "      <td>11.0</td>\n",
       "      <td>2.62</td>\n",
       "      <td>0.96</td>\n",
       "    </tr>\n",
       "  </tbody>\n",
       "</table>\n",
       "</div>"
      ],
      "text/plain": [
       "         lat        lon     ele                  datetime  \\\n",
       "0  55.511593  38.351049  126.07 2025-07-07 16:55:39+00:00   \n",
       "1  55.511576  38.351033  124.63 2025-07-07 16:55:49+00:00   \n",
       "2  55.511498  38.350881  124.15 2025-07-07 16:55:54+00:00   \n",
       "3  55.511466  38.350815  124.15 2025-07-07 16:55:55+00:00   \n",
       "4  55.511447  38.350779  124.15 2025-07-07 16:55:56+00:00   \n",
       "5  55.511083  38.350064  124.15 2025-07-07 16:56:09+00:00   \n",
       "6  55.510495  38.348898  123.67 2025-07-07 16:56:28+00:00   \n",
       "7  55.510009  38.347936  123.19 2025-07-07 16:56:45+00:00   \n",
       "8  55.509615  38.347114  123.19 2025-07-07 16:57:02+00:00   \n",
       "9  55.509560  38.347023  124.15 2025-07-07 16:57:13+00:00   \n",
       "\n",
       "                                              coords         dr    dt  speed  \\\n",
       "0  (2838784.550004626, 2246046.6231034175, 523394...   0.000000   0.0   0.00   \n",
       "1  (2838785.7818863746, 2246046.3552860897, 52339...   1.260658  10.0   0.45   \n",
       "2  (2838797.0989851807, 2246043.080349284, 523393...  11.781423   5.0   8.48   \n",
       "3  (2838802.0072532278, 2246041.6494307937, 52339...   5.112595   1.0  18.41   \n",
       "4  (2838804.7510274854, 2246040.8964052177, 52339...   2.845232   1.0  10.24   \n",
       "5  (2838859.0353345186, 2246026.1981024113, 52339...  56.239009  13.0  15.57   \n",
       "6  (2838946.830385684, 2246001.7288516024, 523387...  91.141183  19.0  17.27   \n",
       "7  (2839019.263178489, 2245981.600184811, 5233844...  75.177608  17.0  15.92   \n",
       "8  (2839079.8752401075, 2245963.287195691, 523381...  63.318146  17.0  13.41   \n",
       "9  (2839087.803399175, 2245962.212242962, 5233816...   8.000702  11.0   2.62   \n",
       "\n",
       "   ele_diff  \n",
       "0       NaN  \n",
       "1     -1.44  \n",
       "2     -0.48  \n",
       "3      0.00  \n",
       "4      0.00  \n",
       "5      0.00  \n",
       "6     -0.48  \n",
       "7     -0.48  \n",
       "8      0.00  \n",
       "9      0.96  "
      ]
     },
     "execution_count": 91,
     "metadata": {},
     "output_type": "execute_result"
    }
   ],
   "source": [
    "df"
   ]
  },
  {
   "cell_type": "code",
   "execution_count": null,
   "id": "6fb93847",
   "metadata": {},
   "outputs": [],
   "source": []
  }
 ],
 "metadata": {
  "kernelspec": {
   "display_name": ".venv",
   "language": "python",
   "name": "python3"
  },
  "language_info": {
   "codemirror_mode": {
    "name": "ipython",
    "version": 3
   },
   "file_extension": ".py",
   "mimetype": "text/x-python",
   "name": "python",
   "nbconvert_exporter": "python",
   "pygments_lexer": "ipython3",
   "version": "3.11.0"
  }
 },
 "nbformat": 4,
 "nbformat_minor": 5
}
