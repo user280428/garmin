{
 "cells": [
  {
   "cell_type": "markdown",
   "id": "3362c626",
   "metadata": {},
   "source": [
    "# GPX FROM GARMIN\n",
    "___"
   ]
  },
  {
   "cell_type": "code",
   "execution_count": null,
   "id": "ab8a2feb",
   "metadata": {},
   "outputs": [],
   "source": [
    "#%pip install --trusted-host files.pythonhosted.org --trusted-host pypi.org --trusted-host pypi.python.org lxml beautifulsoup4 numpy pandas"
   ]
  },
  {
   "cell_type": "code",
   "execution_count": 55,
   "id": "d309fb88",
   "metadata": {},
   "outputs": [],
   "source": [
    "from bs4 import BeautifulSoup\n",
    "import numpy as np\n",
    "import pandas as pd"
   ]
  },
  {
   "cell_type": "markdown",
   "id": "7e9629f4",
   "metadata": {},
   "source": [
    "# FROM FILE TO DF\n",
    "___"
   ]
  },
  {
   "cell_type": "code",
   "execution_count": 94,
   "id": "c0761ca7",
   "metadata": {},
   "outputs": [],
   "source": [
    "with open(\"СПУСК.gpx\", \"r\", encoding=\"utf-8\") as f:\n",
    "    text = f.read()"
   ]
  },
  {
   "cell_type": "code",
   "execution_count": 95,
   "id": "960f770c",
   "metadata": {},
   "outputs": [],
   "source": [
    "soup = BeautifulSoup(text, \"xml\")"
   ]
  },
  {
   "cell_type": "code",
   "execution_count": 96,
   "id": "7deb3400",
   "metadata": {},
   "outputs": [],
   "source": [
    "track = soup.find(\"trk\")"
   ]
  },
  {
   "cell_type": "code",
   "execution_count": 97,
   "id": "a621dd63",
   "metadata": {},
   "outputs": [],
   "source": [
    "track_points = track.find_all(\"trkpt\")"
   ]
  },
  {
   "cell_type": "code",
   "execution_count": 98,
   "id": "f77b77b0",
   "metadata": {},
   "outputs": [],
   "source": [
    "lat_lst = []\n",
    "lon_lst = []\n",
    "ele_lst = []\n",
    "time_lst = []"
   ]
  },
  {
   "cell_type": "code",
   "execution_count": 99,
   "id": "7f5d4ba6",
   "metadata": {},
   "outputs": [],
   "source": [
    "for i, point in enumerate(track_points):\n",
    "    lat_lst.append(point.attrs[\"lat\"])\n",
    "    lon_lst.append(point.attrs[\"lon\"])\n",
    "    ele_lst.append(point.find(\"ele\").text)\n",
    "    time_lst.append(point.find(\"time\").text)"
   ]
  },
  {
   "cell_type": "code",
   "execution_count": 100,
   "id": "1f6dcce3",
   "metadata": {},
   "outputs": [],
   "source": [
    "df = pd.DataFrame({\n",
    "    \"lat\": lat_lst,\n",
    "    \"lon\": lon_lst,\n",
    "    \"ele\": ele_lst,\n",
    "    \"datetime\": time_lst\n",
    "})"
   ]
  },
  {
   "cell_type": "markdown",
   "id": "2299fa40",
   "metadata": {},
   "source": [
    "___\n",
    "# PROCESSING\n",
    "___"
   ]
  },
  {
   "cell_type": "code",
   "execution_count": 101,
   "id": "dcacfc2d",
   "metadata": {},
   "outputs": [],
   "source": [
    "df[\"lon\"] = df[\"lon\"].astype(float)\n",
    "df[\"lat\"] = df[\"lat\"].astype(float)\n",
    "df[\"ele\"] = df[\"ele\"].astype(float)\n",
    "df[\"datetime\"] = pd.to_datetime(df[\"datetime\"])"
   ]
  },
  {
   "cell_type": "code",
   "execution_count": 102,
   "id": "d803b8d9",
   "metadata": {},
   "outputs": [],
   "source": [
    "def geodetic_to_ecef(lat, lon, alt=0):\n",
    "    # WGS84 параметры эллипсоида\n",
    "    a = 6378137.0  # большая полуось (м)\n",
    "    e_sq = 6.69437999014e-3  # квадрат эксцентриситета\n",
    "    \n",
    "    lat_rad = np.radians(lat)\n",
    "    lon_rad = np.radians(lon)\n",
    "    \n",
    "    N = a / np.sqrt(1 - e_sq * np.sin(lat_rad)**2)\n",
    "    x = (N + alt) * np.cos(lat_rad) * np.cos(lon_rad)\n",
    "    y = (N + alt) * np.cos(lat_rad) * np.sin(lon_rad)\n",
    "    z = (N * (1 - e_sq) + alt) * np.sin(lat_rad)\n",
    "    \n",
    "    return x, y, z"
   ]
  },
  {
   "cell_type": "code",
   "execution_count": 103,
   "id": "20c52f45",
   "metadata": {},
   "outputs": [],
   "source": [
    "df[\"coords\"] = df.apply(lambda row: geodetic_to_ecef(row[\"lat\"], row[\"lon\"], row[\"ele\"]), axis=1)"
   ]
  },
  {
   "cell_type": "code",
   "execution_count": 104,
   "id": "e7de9f0c",
   "metadata": {},
   "outputs": [],
   "source": [
    "df[\"coord_shift\"] = df[\"coords\"].shift(1)"
   ]
  },
  {
   "cell_type": "code",
   "execution_count": 105,
   "id": "56db3673",
   "metadata": {},
   "outputs": [],
   "source": [
    "def delta_r(row):\n",
    "    if row.name == 0:\n",
    "        return 0\n",
    "    dx = row[\"coords\"][0] - row[\"coord_shift\"][0]\n",
    "    dy = row[\"coords\"][1] - row[\"coord_shift\"][1]\n",
    "    dz = row[\"coords\"][1] - row[\"coord_shift\"][2]\n",
    "    return np.sqrt( dx ** 2 + dy ** 2 )"
   ]
  },
  {
   "cell_type": "code",
   "execution_count": 106,
   "id": "2a5178bc",
   "metadata": {},
   "outputs": [],
   "source": [
    "df[\"dr\"] = df.apply(lambda row: delta_r(row), axis=1)\n",
    "df = df.drop(columns=[\"coord_shift\"])"
   ]
  },
  {
   "cell_type": "code",
   "execution_count": 107,
   "id": "9d621f4c",
   "metadata": {},
   "outputs": [],
   "source": [
    "df[\"dt\"] = df[\"datetime\"].diff().dt.total_seconds().fillna(0)"
   ]
  },
  {
   "cell_type": "code",
   "execution_count": 108,
   "id": "edac4bb6",
   "metadata": {},
   "outputs": [],
   "source": [
    "df[\"speed\"] = round( ( df[\"dr\"] / + df[\"dt\"] ) * 3.6 , 2)"
   ]
  },
  {
   "cell_type": "code",
   "execution_count": 109,
   "id": "80190120",
   "metadata": {},
   "outputs": [],
   "source": [
    "df = df.fillna(0)"
   ]
  },
  {
   "cell_type": "code",
   "execution_count": 110,
   "id": "db851d36",
   "metadata": {},
   "outputs": [],
   "source": [
    "df[\"ele_diff\"] = df[\"ele\"].diff()"
   ]
  },
  {
   "cell_type": "markdown",
   "id": "947761b2",
   "metadata": {},
   "source": [
    "___\n",
    "# DATA\n",
    "___"
   ]
  },
  {
   "cell_type": "markdown",
   "id": "eb6526af",
   "metadata": {},
   "source": [
    "- DISTANCE BY GARMIN"
   ]
  },
  {
   "cell_type": "code",
   "execution_count": 127,
   "id": "f078a64f",
   "metadata": {},
   "outputs": [
    {
     "name": "stdout",
     "output_type": "stream",
     "text": [
      "\t 287\n"
     ]
    }
   ],
   "source": [
    "distance = track.find(\"gpxtrkx:Distance\").text\n",
    "print ( \"\\t\", distance )"
   ]
  },
  {
   "cell_type": "markdown",
   "id": "50e4921d",
   "metadata": {},
   "source": [
    "- N POINTS"
   ]
  },
  {
   "cell_type": "code",
   "execution_count": 112,
   "id": "296f6a01",
   "metadata": {},
   "outputs": [
    {
     "name": "stdout",
     "output_type": "stream",
     "text": [
      "\t 11\n"
     ]
    }
   ],
   "source": [
    "n_points = df[\"lat\"].count()\n",
    "print ( \"\\t\", n_points )"
   ]
  },
  {
   "cell_type": "markdown",
   "id": "4c93d0d2",
   "metadata": {},
   "source": [
    "- TRACK NAME"
   ]
  },
  {
   "cell_type": "code",
   "execution_count": 113,
   "id": "d91d48c6",
   "metadata": {},
   "outputs": [
    {
     "name": "stdout",
     "output_type": "stream",
     "text": [
      "\t СПУСК\n"
     ]
    }
   ],
   "source": [
    "track_name = track.find(\"name\").text\n",
    "print ( \"\\t\", track_name )"
   ]
  },
  {
   "cell_type": "markdown",
   "id": "e7df3295",
   "metadata": {},
   "source": [
    "- MAX SPEED"
   ]
  },
  {
   "cell_type": "code",
   "execution_count": 114,
   "id": "6b85b5d8",
   "metadata": {},
   "outputs": [
    {
     "name": "stdout",
     "output_type": "stream",
     "text": [
      "\t 16.43\n"
     ]
    }
   ],
   "source": [
    "max_speed = df[\"speed\"].max()\n",
    "print ( \"\\t\", max_speed )"
   ]
  },
  {
   "cell_type": "markdown",
   "id": "9adc784f",
   "metadata": {},
   "source": [
    "- AVG SPEED"
   ]
  },
  {
   "cell_type": "code",
   "execution_count": 115,
   "id": "cdf86817",
   "metadata": {},
   "outputs": [
    {
     "name": "stdout",
     "output_type": "stream",
     "text": [
      "\t 8.95\n"
     ]
    }
   ],
   "source": [
    "avg_speed = round( df[\"dr\"].sum() / df[\"dt\"].sum() * 3.6, 2)\n",
    "print ( \"\\t\", avg_speed )"
   ]
  },
  {
   "cell_type": "markdown",
   "id": "a4d448a9",
   "metadata": {},
   "source": [
    "- DISTANCE"
   ]
  },
  {
   "cell_type": "code",
   "execution_count": 128,
   "id": "52d1265a",
   "metadata": {},
   "outputs": [
    {
     "name": "stdout",
     "output_type": "stream",
     "text": [
      "\t 261.01\n"
     ]
    }
   ],
   "source": [
    "distance = round( df[\"dr\"].sum(), 2)\n",
    "print ( \"\\t\", distance )"
   ]
  },
  {
   "cell_type": "markdown",
   "id": "39d84ef9",
   "metadata": {},
   "source": [
    "- LONGEST PART"
   ]
  },
  {
   "cell_type": "code",
   "execution_count": 117,
   "id": "d25e92a2",
   "metadata": {},
   "outputs": [
    {
     "name": "stdout",
     "output_type": "stream",
     "text": [
      "\t 68.47\n"
     ]
    }
   ],
   "source": [
    "longest_part = round( df[\"dr\"].max(), 2)\n",
    "print ( \"\\t\", longest_part )"
   ]
  },
  {
   "cell_type": "markdown",
   "id": "a2cec1fe",
   "metadata": {},
   "source": [
    "- SMALLEST PART"
   ]
  },
  {
   "cell_type": "code",
   "execution_count": 129,
   "id": "4ca21878",
   "metadata": {},
   "outputs": [
    {
     "name": "stdout",
     "output_type": "stream",
     "text": [
      "\t 0.0\n"
     ]
    }
   ],
   "source": [
    "longest_part = round( df[\"dr\"].min(), 2)\n",
    "print ( \"\\t\", longest_part )"
   ]
  },
  {
   "cell_type": "markdown",
   "id": "85689727",
   "metadata": {},
   "source": [
    "- LONGEST TIME"
   ]
  },
  {
   "cell_type": "code",
   "execution_count": 130,
   "id": "669c5d6e",
   "metadata": {},
   "outputs": [
    {
     "name": "stdout",
     "output_type": "stream",
     "text": [
      "\t 30.0\n"
     ]
    }
   ],
   "source": [
    "longest_time = round( df[\"dt\"].max(), 2)\n",
    "print ( \"\\t\", longest_time )"
   ]
  },
  {
   "cell_type": "markdown",
   "id": "120d1390",
   "metadata": {},
   "source": [
    "- SMALLEST TIME"
   ]
  },
  {
   "cell_type": "code",
   "execution_count": 120,
   "id": "e90d968e",
   "metadata": {},
   "outputs": [
    {
     "name": "stdout",
     "output_type": "stream",
     "text": [
      "\t 0.0\n"
     ]
    }
   ],
   "source": [
    "smallest_time = round( df[\"dt\"].min(), 2)\n",
    "print ( \"\\t\", smallest_time )"
   ]
  },
  {
   "cell_type": "markdown",
   "id": "f0f4232c",
   "metadata": {},
   "source": [
    "- TOTAL TIME"
   ]
  },
  {
   "cell_type": "code",
   "execution_count": 121,
   "id": "9cdea464",
   "metadata": {},
   "outputs": [
    {
     "name": "stdout",
     "output_type": "stream",
     "text": [
      "\t 105 s\n",
      "\t 1.75 m\n",
      "\t 0.03 h\n",
      "\t 0.0 h 1.0 m 45 s\n"
     ]
    }
   ],
   "source": [
    "total_time = df[\"dt\"].sum()\n",
    "hours = total_time // 3600\n",
    "minutes = ( total_time % 3600 ) // 60\n",
    "seconds = int(( total_time % 3600 ) % 60)\n",
    "print (\"\\t\", int( total_time ), \"s\")\n",
    "print (\"\\t\", round( total_time / 60, 2 ), \"m\")\n",
    "print (\"\\t\", round( total_time / 3600, 2 ), \"h\")\n",
    "print (\"\\t\", hours, \"h\", minutes, \"m\", seconds, \"s\")"
   ]
  },
  {
   "cell_type": "markdown",
   "id": "26ac25f5",
   "metadata": {},
   "source": [
    "- MIN ELEVATION"
   ]
  },
  {
   "cell_type": "code",
   "execution_count": 122,
   "id": "13bb06bf",
   "metadata": {},
   "outputs": [
    {
     "name": "stdout",
     "output_type": "stream",
     "text": [
      "\t 122.71\n"
     ]
    }
   ],
   "source": [
    "min_ele = df[\"ele\"].min()\n",
    "print ( \"\\t\", min_ele )"
   ]
  },
  {
   "cell_type": "markdown",
   "id": "7b187b82",
   "metadata": {},
   "source": [
    "- MAX ELE"
   ]
  },
  {
   "cell_type": "code",
   "execution_count": 123,
   "id": "5dec9673",
   "metadata": {},
   "outputs": [
    {
     "name": "stdout",
     "output_type": "stream",
     "text": [
      "\t 125.59\n"
     ]
    }
   ],
   "source": [
    "max_ele = df[\"ele\"].max()\n",
    "print ( \"\\t\", max_ele )"
   ]
  },
  {
   "cell_type": "markdown",
   "id": "2d28f378",
   "metadata": {},
   "source": [
    "- DOWN DISTANCE"
   ]
  },
  {
   "cell_type": "code",
   "execution_count": 124,
   "id": "88cf073e",
   "metadata": {},
   "outputs": [
    {
     "name": "stdout",
     "output_type": "stream",
     "text": [
      "\t 2.88\n"
     ]
    }
   ],
   "source": [
    "down_distance = -round( df[ df[\"ele_diff\"] < 0 ][\"ele_diff\"].sum(), 2 )\n",
    "print ( \"\\t\", down_distance )"
   ]
  },
  {
   "cell_type": "markdown",
   "id": "9a6d2ae4",
   "metadata": {},
   "source": [
    "- UP DISTANCE"
   ]
  },
  {
   "cell_type": "code",
   "execution_count": 125,
   "id": "30af5d3d",
   "metadata": {},
   "outputs": [
    {
     "name": "stdout",
     "output_type": "stream",
     "text": [
      "\t 0.48\n"
     ]
    }
   ],
   "source": [
    "up_distance = round( df[ df[\"ele_diff\"] > 0 ][\"ele_diff\"].sum(), 2 )\n",
    "print ( \"\\t\", up_distance )"
   ]
  },
  {
   "cell_type": "markdown",
   "id": "4407c635",
   "metadata": {},
   "source": [
    "___"
   ]
  },
  {
   "cell_type": "code",
   "execution_count": 126,
   "id": "ffde43b9",
   "metadata": {},
   "outputs": [],
   "source": [
    "with open(f\"{track_name}.txt\", \"w\", encoding=\"UTF-8\") as f:\n",
    "    f.write(f\"Поход {track_name}\\n\"\n",
    "            f\"Пройденное расстояние - {distance} м\\n\"\n",
    "            f\"Средняя скорость - {avg_speed} км/ч\\n\"\n",
    "            f\"Максимальная скорость - {max_speed} км/ч\\n\"\n",
    "            f\"Время похода - {hours} ч, {minutes} м, {seconds} с\\n\"\n",
    "            f\"Самая большая высота - {max_ele} м\\n\"\n",
    "            f\"Самая маленькая высота - {min_ele} м\\n\"\n",
    "            f\"Спуск - {down_distance} м\\n\"\n",
    "            f\"Подъем - {up_distance} м\\n\"\n",
    "            )\n"
   ]
  },
  {
   "cell_type": "code",
   "execution_count": 89,
   "id": "4576c33f",
   "metadata": {},
   "outputs": [
    {
     "data": {
      "text/plain": [
       "(np.float64(2838784.550004626),\n",
       " np.float64(2246046.6231034175),\n",
       " np.float64(5233946.618223295))"
      ]
     },
     "execution_count": 89,
     "metadata": {},
     "output_type": "execute_result"
    }
   ],
   "source": [
    "df[\"coords\"][0]"
   ]
  },
  {
   "cell_type": "code",
   "execution_count": 90,
   "id": "6bc53211",
   "metadata": {},
   "outputs": [
    {
     "data": {
      "text/plain": [
       "(np.float64(2838785.7818863746),\n",
       " np.float64(2246046.3552860897),\n",
       " np.float64(5233944.321645297))"
      ]
     },
     "execution_count": 90,
     "metadata": {},
     "output_type": "execute_result"
    }
   ],
   "source": [
    "df[\"coords\"][1]"
   ]
  },
  {
   "cell_type": "code",
   "execution_count": 91,
   "id": "6c48eec7",
   "metadata": {},
   "outputs": [
    {
     "data": {
      "text/html": [
       "<div>\n",
       "<style scoped>\n",
       "    .dataframe tbody tr th:only-of-type {\n",
       "        vertical-align: middle;\n",
       "    }\n",
       "\n",
       "    .dataframe tbody tr th {\n",
       "        vertical-align: top;\n",
       "    }\n",
       "\n",
       "    .dataframe thead th {\n",
       "        text-align: right;\n",
       "    }\n",
       "</style>\n",
       "<table border=\"1\" class=\"dataframe\">\n",
       "  <thead>\n",
       "    <tr style=\"text-align: right;\">\n",
       "      <th></th>\n",
       "      <th>lat</th>\n",
       "      <th>lon</th>\n",
       "      <th>ele</th>\n",
       "      <th>datetime</th>\n",
       "      <th>coords</th>\n",
       "      <th>dr</th>\n",
       "      <th>dt</th>\n",
       "      <th>speed</th>\n",
       "      <th>ele_diff</th>\n",
       "    </tr>\n",
       "  </thead>\n",
       "  <tbody>\n",
       "    <tr>\n",
       "      <th>0</th>\n",
       "      <td>55.511593</td>\n",
       "      <td>38.351049</td>\n",
       "      <td>126.07</td>\n",
       "      <td>2025-07-07 16:55:39+00:00</td>\n",
       "      <td>(2838784.550004626, 2246046.6231034175, 523394...</td>\n",
       "      <td>0.000000</td>\n",
       "      <td>0.0</td>\n",
       "      <td>0.00</td>\n",
       "      <td>NaN</td>\n",
       "    </tr>\n",
       "    <tr>\n",
       "      <th>1</th>\n",
       "      <td>55.511576</td>\n",
       "      <td>38.351033</td>\n",
       "      <td>124.63</td>\n",
       "      <td>2025-07-07 16:55:49+00:00</td>\n",
       "      <td>(2838785.7818863746, 2246046.3552860897, 52339...</td>\n",
       "      <td>1.260658</td>\n",
       "      <td>10.0</td>\n",
       "      <td>0.45</td>\n",
       "      <td>-1.44</td>\n",
       "    </tr>\n",
       "    <tr>\n",
       "      <th>2</th>\n",
       "      <td>55.511498</td>\n",
       "      <td>38.350881</td>\n",
       "      <td>124.15</td>\n",
       "      <td>2025-07-07 16:55:54+00:00</td>\n",
       "      <td>(2838797.0989851807, 2246043.080349284, 523393...</td>\n",
       "      <td>11.781423</td>\n",
       "      <td>5.0</td>\n",
       "      <td>8.48</td>\n",
       "      <td>-0.48</td>\n",
       "    </tr>\n",
       "    <tr>\n",
       "      <th>3</th>\n",
       "      <td>55.511466</td>\n",
       "      <td>38.350815</td>\n",
       "      <td>124.15</td>\n",
       "      <td>2025-07-07 16:55:55+00:00</td>\n",
       "      <td>(2838802.0072532278, 2246041.6494307937, 52339...</td>\n",
       "      <td>5.112595</td>\n",
       "      <td>1.0</td>\n",
       "      <td>18.41</td>\n",
       "      <td>0.00</td>\n",
       "    </tr>\n",
       "    <tr>\n",
       "      <th>4</th>\n",
       "      <td>55.511447</td>\n",
       "      <td>38.350779</td>\n",
       "      <td>124.15</td>\n",
       "      <td>2025-07-07 16:55:56+00:00</td>\n",
       "      <td>(2838804.7510274854, 2246040.8964052177, 52339...</td>\n",
       "      <td>2.845232</td>\n",
       "      <td>1.0</td>\n",
       "      <td>10.24</td>\n",
       "      <td>0.00</td>\n",
       "    </tr>\n",
       "    <tr>\n",
       "      <th>5</th>\n",
       "      <td>55.511083</td>\n",
       "      <td>38.350064</td>\n",
       "      <td>124.15</td>\n",
       "      <td>2025-07-07 16:56:09+00:00</td>\n",
       "      <td>(2838859.0353345186, 2246026.1981024113, 52339...</td>\n",
       "      <td>56.239009</td>\n",
       "      <td>13.0</td>\n",
       "      <td>15.57</td>\n",
       "      <td>0.00</td>\n",
       "    </tr>\n",
       "    <tr>\n",
       "      <th>6</th>\n",
       "      <td>55.510495</td>\n",
       "      <td>38.348898</td>\n",
       "      <td>123.67</td>\n",
       "      <td>2025-07-07 16:56:28+00:00</td>\n",
       "      <td>(2838946.830385684, 2246001.7288516024, 523387...</td>\n",
       "      <td>91.141183</td>\n",
       "      <td>19.0</td>\n",
       "      <td>17.27</td>\n",
       "      <td>-0.48</td>\n",
       "    </tr>\n",
       "    <tr>\n",
       "      <th>7</th>\n",
       "      <td>55.510009</td>\n",
       "      <td>38.347936</td>\n",
       "      <td>123.19</td>\n",
       "      <td>2025-07-07 16:56:45+00:00</td>\n",
       "      <td>(2839019.263178489, 2245981.600184811, 5233844...</td>\n",
       "      <td>75.177608</td>\n",
       "      <td>17.0</td>\n",
       "      <td>15.92</td>\n",
       "      <td>-0.48</td>\n",
       "    </tr>\n",
       "    <tr>\n",
       "      <th>8</th>\n",
       "      <td>55.509615</td>\n",
       "      <td>38.347114</td>\n",
       "      <td>123.19</td>\n",
       "      <td>2025-07-07 16:57:02+00:00</td>\n",
       "      <td>(2839079.8752401075, 2245963.287195691, 523381...</td>\n",
       "      <td>63.318146</td>\n",
       "      <td>17.0</td>\n",
       "      <td>13.41</td>\n",
       "      <td>0.00</td>\n",
       "    </tr>\n",
       "    <tr>\n",
       "      <th>9</th>\n",
       "      <td>55.509560</td>\n",
       "      <td>38.347023</td>\n",
       "      <td>124.15</td>\n",
       "      <td>2025-07-07 16:57:13+00:00</td>\n",
       "      <td>(2839087.803399175, 2245962.212242962, 5233816...</td>\n",
       "      <td>8.000702</td>\n",
       "      <td>11.0</td>\n",
       "      <td>2.62</td>\n",
       "      <td>0.96</td>\n",
       "    </tr>\n",
       "  </tbody>\n",
       "</table>\n",
       "</div>"
      ],
      "text/plain": [
       "         lat        lon     ele                  datetime  \\\n",
       "0  55.511593  38.351049  126.07 2025-07-07 16:55:39+00:00   \n",
       "1  55.511576  38.351033  124.63 2025-07-07 16:55:49+00:00   \n",
       "2  55.511498  38.350881  124.15 2025-07-07 16:55:54+00:00   \n",
       "3  55.511466  38.350815  124.15 2025-07-07 16:55:55+00:00   \n",
       "4  55.511447  38.350779  124.15 2025-07-07 16:55:56+00:00   \n",
       "5  55.511083  38.350064  124.15 2025-07-07 16:56:09+00:00   \n",
       "6  55.510495  38.348898  123.67 2025-07-07 16:56:28+00:00   \n",
       "7  55.510009  38.347936  123.19 2025-07-07 16:56:45+00:00   \n",
       "8  55.509615  38.347114  123.19 2025-07-07 16:57:02+00:00   \n",
       "9  55.509560  38.347023  124.15 2025-07-07 16:57:13+00:00   \n",
       "\n",
       "                                              coords         dr    dt  speed  \\\n",
       "0  (2838784.550004626, 2246046.6231034175, 523394...   0.000000   0.0   0.00   \n",
       "1  (2838785.7818863746, 2246046.3552860897, 52339...   1.260658  10.0   0.45   \n",
       "2  (2838797.0989851807, 2246043.080349284, 523393...  11.781423   5.0   8.48   \n",
       "3  (2838802.0072532278, 2246041.6494307937, 52339...   5.112595   1.0  18.41   \n",
       "4  (2838804.7510274854, 2246040.8964052177, 52339...   2.845232   1.0  10.24   \n",
       "5  (2838859.0353345186, 2246026.1981024113, 52339...  56.239009  13.0  15.57   \n",
       "6  (2838946.830385684, 2246001.7288516024, 523387...  91.141183  19.0  17.27   \n",
       "7  (2839019.263178489, 2245981.600184811, 5233844...  75.177608  17.0  15.92   \n",
       "8  (2839079.8752401075, 2245963.287195691, 523381...  63.318146  17.0  13.41   \n",
       "9  (2839087.803399175, 2245962.212242962, 5233816...   8.000702  11.0   2.62   \n",
       "\n",
       "   ele_diff  \n",
       "0       NaN  \n",
       "1     -1.44  \n",
       "2     -0.48  \n",
       "3      0.00  \n",
       "4      0.00  \n",
       "5      0.00  \n",
       "6     -0.48  \n",
       "7     -0.48  \n",
       "8      0.00  \n",
       "9      0.96  "
      ]
     },
     "execution_count": 91,
     "metadata": {},
     "output_type": "execute_result"
    }
   ],
   "source": [
    "df"
   ]
  },
  {
   "cell_type": "code",
   "execution_count": null,
   "id": "6fb93847",
   "metadata": {},
   "outputs": [],
   "source": []
  }
 ],
 "metadata": {
  "kernelspec": {
   "display_name": ".venv",
   "language": "python",
   "name": "python3"
  },
  "language_info": {
   "codemirror_mode": {
    "name": "ipython",
    "version": 3
   },
   "file_extension": ".py",
   "mimetype": "text/x-python",
   "name": "python",
   "nbconvert_exporter": "python",
   "pygments_lexer": "ipython3",
   "version": "3.11.0"
  }
 },
 "nbformat": 4,
 "nbformat_minor": 5
}
