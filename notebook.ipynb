{
 "cells": [
  {
   "cell_type": "markdown",
   "id": "3362c626",
   "metadata": {},
   "source": "# GPX FROM GARMIN"
  },
  {
   "cell_type": "code",
   "id": "ab8a2feb",
   "metadata": {
    "ExecuteTime": {
     "end_time": "2025-07-09T22:36:19.840301Z",
     "start_time": "2025-07-09T22:36:19.836375Z"
    }
   },
   "source": "#%pip install --trusted-host files.pythonhosted.org --trusted-host pypi.org --trusted-host pypi.python.org lxml beautifulsoup4 numpy pandas matplotlib",
   "outputs": [],
   "execution_count": 1
  },
  {
   "cell_type": "code",
   "id": "d309fb88",
   "metadata": {
    "ExecuteTime": {
     "end_time": "2025-07-10T16:18:07.470672Z",
     "start_time": "2025-07-10T16:18:04.012949Z"
    }
   },
   "source": [
    "from bs4 import BeautifulSoup\n",
    "import numpy as np\n",
    "import pandas as pd\n",
    "import matplotlib.pyplot as plt"
   ],
   "outputs": [],
   "execution_count": 1
  },
  {
   "cell_type": "markdown",
   "id": "7e9629f4",
   "metadata": {},
   "source": [
    "FROM FILE TO DF\n",
    "---"
   ]
  },
  {
   "cell_type": "code",
   "id": "c0761ca7",
   "metadata": {
    "ExecuteTime": {
     "end_time": "2025-07-10T16:24:20.209669Z",
     "start_time": "2025-07-10T16:24:20.199179Z"
    }
   },
   "source": [
    "with open(\"gpx/ТУДА.gpx\", \"r\", encoding=\"utf-8\") as f:\n",
    "    text = f.read()\n",
    "    \n",
    "soup = BeautifulSoup(text, \"xml\")\n",
    "track_points = soup.find_all(\"trkpt\")"
   ],
   "outputs": [],
   "execution_count": 17
  },
  {
   "cell_type": "code",
   "id": "960f770c",
   "metadata": {
    "ExecuteTime": {
     "end_time": "2025-07-10T16:24:20.444292Z",
     "start_time": "2025-07-10T16:24:20.436573Z"
    }
   },
   "source": [
    "lat_lst = []\n",
    "lon_lst = []\n",
    "ele_lst = []\n",
    "time_lst = []\n",
    "\n",
    "for i, point in enumerate(track_points):\n",
    "    lat_lst.append(point.attrs[\"lat\"])\n",
    "    lon_lst.append(point.attrs[\"lon\"])\n",
    "    ele_lst.append(point.find(\"ele\").text)\n",
    "    time_lst.append(point.find(\"time\").text)"
   ],
   "outputs": [],
   "execution_count": 18
  },
  {
   "cell_type": "code",
   "id": "7deb3400",
   "metadata": {
    "ExecuteTime": {
     "end_time": "2025-07-10T16:24:20.656860Z",
     "start_time": "2025-07-10T16:24:20.652014Z"
    }
   },
   "source": [
    "df = pd.DataFrame({\n",
    "    \"lat\": lat_lst,\n",
    "    \"lon\": lon_lst,\n",
    "    \"ele\": ele_lst,\n",
    "    \"datetime\": time_lst\n",
    "})"
   ],
   "outputs": [],
   "execution_count": 19
  },
  {
   "metadata": {},
   "cell_type": "markdown",
   "source": [
    "PROCESSING\n",
    "---"
   ],
   "id": "34fc8e6e7bd1cfb5"
  },
  {
   "cell_type": "code",
   "id": "dcacfc2d",
   "metadata": {
    "ExecuteTime": {
     "end_time": "2025-07-10T16:24:21.041467Z",
     "start_time": "2025-07-10T16:24:21.035573Z"
    }
   },
   "source": [
    "df[\"lon\"] = df[\"lon\"].astype(float)\n",
    "df[\"lat\"] = df[\"lat\"].astype(float)\n",
    "df[\"ele\"] = df[\"ele\"].astype(float)\n",
    "df[\"datetime\"] = pd.to_datetime(df[\"datetime\"])\n",
    "df[\"lat_shift\"] = df[\"lat\"].shift()\n",
    "df[\"lon_shift\"] = df[\"lon\"].shift()"
   ],
   "outputs": [],
   "execution_count": 20
  },
  {
   "cell_type": "code",
   "id": "d803b8d9",
   "metadata": {
    "ExecuteTime": {
     "end_time": "2025-07-10T16:24:21.246019Z",
     "start_time": "2025-07-10T16:24:21.240400Z"
    }
   },
   "source": [
    "def dr(row):\n",
    "    r = 6_371_000\n",
    "    lat_1 = np.radians(row[\"lat\"])\n",
    "    lon_1 = np.radians(row[\"lon\"])\n",
    "    lat_2 = np.radians(row[\"lat_shift\"])\n",
    "    lon_2 = np.radians(row[\"lon_shift\"]) \n",
    "    l = r * np.arccos(\n",
    "        np.sin(lat_1) * np.sin(lat_2) + np.cos(lat_1) * np.cos(lat_2) * np.cos(lon_1 - lon_2)\n",
    "    )\n",
    "    return l"
   ],
   "outputs": [],
   "execution_count": 21
  },
  {
   "cell_type": "code",
   "id": "20c52f45",
   "metadata": {
    "ExecuteTime": {
     "end_time": "2025-07-10T16:24:21.461207Z",
     "start_time": "2025-07-10T16:24:21.451334Z"
    }
   },
   "source": [
    "df[\"dr\"] = df.apply(dr, axis=1)\n",
    "df[\"dt\"] = df[\"datetime\"].diff().dt.total_seconds()\n",
    "df[\"speed\"] = round( ( df[\"dr\"] / + df[\"dt\"] ) * 3.6 , 2)"
   ],
   "outputs": [],
   "execution_count": 22
  },
  {
   "cell_type": "code",
   "id": "db851d36",
   "metadata": {
    "ExecuteTime": {
     "end_time": "2025-07-10T16:24:21.698580Z",
     "start_time": "2025-07-10T16:24:21.692619Z"
    }
   },
   "source": [
    "df[\"ele_diff\"] = df[\"ele\"].diff()"
   ],
   "outputs": [],
   "execution_count": 23
  },
  {
   "cell_type": "markdown",
   "id": "947761b2",
   "metadata": {},
   "source": [
    "DATA\n",
    "---"
   ]
  },
  {
   "cell_type": "code",
   "id": "f078a64f",
   "metadata": {
    "ExecuteTime": {
     "end_time": "2025-07-10T16:24:22.355436Z",
     "start_time": "2025-07-10T16:24:22.345996Z"
    }
   },
   "source": [
    "# Дистанция, записанная трекером\n",
    "trc_distance = soup.find(\"gpxtrkx:Distance\").text\n",
    "\n",
    "# Дистанция, рассчитанная (длина дуги на сфере)\n",
    "distance = round( df[\"dr\"].sum(), 2)\n",
    "\n",
    "# Кол-во точек в треке\n",
    "n_points = df[\"lat\"].count()\n",
    "\n",
    "# Название трека\n",
    "track_name = soup.find(\"name\").text\n",
    "\n",
    "# Максимальная скорость\n",
    "max_speed = df[\"speed\"].max()\n",
    "\n",
    "# Средняя скорость\n",
    "avg_speed = round( df[\"dr\"].sum() / df[\"dt\"].sum() * 3.6, 2)\n",
    "\n",
    "# Самое большое расстояние между точками\n",
    "longest_part = round( df[\"dr\"].max(), 2)\n",
    "\n",
    "# Самое маленькое расстояние между точками\n",
    "smallest_part = round( df[\"dr\"].min(), 2)\n",
    "\n",
    "# Самое большое время между точками\n",
    "longest_time = round( df[\"dt\"].max(), 2)\n",
    "\n",
    "# Самое маленькое время между точками\n",
    "smallest_time = round( df[\"dt\"].min(), 2)\n",
    "\n",
    "# Все время в пути\n",
    "total_time = df[\"dt\"].sum()\n",
    "hours = total_time // 3600\n",
    "minutes = ( total_time % 3600 ) // 60\n",
    "seconds = int(( total_time % 3600 ) % 60)\n",
    "\n",
    "# Минимальная высота трека\n",
    "min_ele = df[\"ele\"].min()\n",
    "\n",
    "# Максимальная высота трека\n",
    "max_ele = df[\"ele\"].max()\n",
    "\n",
    "# Спуск\n",
    "down_distance = -round( df[ df[\"ele_diff\"] < 0 ][\"ele_diff\"].sum(), 2 )\n",
    "\n",
    "# Подъем\n",
    "up_distance = round( df[ df[\"ele_diff\"] > 0 ][\"ele_diff\"].sum(), 2 )"
   ],
   "outputs": [],
   "execution_count": 24
  },
  {
   "metadata": {
    "ExecuteTime": {
     "end_time": "2025-07-10T16:24:22.986875Z",
     "start_time": "2025-07-10T16:24:22.980177Z"
    }
   },
   "cell_type": "code",
   "source": [
    "# Обязательное \n",
    "print (f\"Наззванеие трека - {track_name}\")\n",
    "\n",
    "print (f\"Дистанция измеренная - {trc_distance} м\")\n",
    "print (f\"Дистанция рассчитанная - {distance} м\")\n",
    "\n",
    "print (f\"Время в пути - {hours} ч {minutes} м {seconds} с\")\n",
    "print (f\"Средняя скорость - {avg_speed} км/ч\")\n",
    "print (f\"Максимальная скорость - {max_speed} км/ч\")\n",
    "\n",
    "print (f\"Максимальная высота маршрута - {max_ele} м\")\n",
    "print (f\"Минимальная высота маршрута - {min_ele} м\")\n",
    "print (f\"Спуск ⭣ - {down_distance} м\")\n",
    "print (f\"Подъем ⭡- {up_distance} м\")\n",
    "\n",
    "print()\n",
    "# Необязательное\n",
    "print (f\"Количество записанных точек в треке - {n_points}\")\n",
    "print (f\"Максимальное расстояние между точками - {longest_part} м\")\n",
    "print (f\"Минимальное расстояние между точками - {smallest_part} м\")\n",
    "print (f\"Максимальное время между точками - {longest_time} с\")\n",
    "print (f\"Минимальное время между точками - {smallest_time} с\")"
   ],
   "id": "95d04798725416e0",
   "outputs": [
    {
     "name": "stdout",
     "output_type": "stream",
     "text": [
      "Наззванеие трека - ТУДА\n",
      "Дистанция измеренная - 2198 м\n",
      "Дистанция рассчитанная - 2207.81 м\n",
      "Время в пути - 0.0 ч 10.0 м 18 с\n",
      "Средняя скорость - 12.86 км/ч\n",
      "Максимальная скорость - 42.42 км/ч\n",
      "Максимальная высота маршрута - 131.84 м\n",
      "Минимальная высота маршрута - 119.82 м\n",
      "Спуск ⭣ - 20.2 м\n",
      "Подъем ⭡- 18.28 м\n",
      "\n",
      "Количество записанных точек в треке - 66\n",
      "Максимальное расстояние между точками - 149.37 м\n",
      "Минимальное расстояние между точками - 0.3 м\n",
      "Максимальное время между точками - 45.0 с\n",
      "Минимальное время между точками - 1.0 с\n"
     ]
    }
   ],
   "execution_count": 25
  },
  {
   "metadata": {
    "ExecuteTime": {
     "end_time": "2025-07-10T16:31:07.562024Z",
     "start_time": "2025-07-10T16:31:07.556757Z"
    }
   },
   "cell_type": "code",
   "source": [
    "with open(f\"отчеты/{track_name}.txt\", \"w\", encoding=\"utf-8\") as f:\n",
    "    f.write(f\"Наззванеие трека - {track_name}\\n\"\n",
    "            f\"\\n\"\n",
    "            f\"Дистанция измеренная - {trc_distance} м\\n\"\n",
    "            f\"Дистанция рассчитанная - {distance} м\\n\"\n",
    "            f\"\\n\"\n",
    "            f\"Время в пути - {hours} ч {minutes} м {seconds} с\\n\"\n",
    "            f\"Средняя скорость - {avg_speed} км/ч\\n\"\n",
    "            f\"Максимальная скорость - {max_speed} км/ч\\n\"\n",
    "            f\"\\n\"\n",
    "            f\"Максимальная высота маршрута - {max_ele} м\\n\"\n",
    "            f\"Минимальная высота маршрута - {min_ele} м\\n\"\n",
    "            f\"Спуск ⭣ - {down_distance} м\\n\"\n",
    "            f\"Подъем ⭡- {up_distance} м\\n\"\n",
    "    )"
   ],
   "id": "f44cc88122707605",
   "outputs": [],
   "execution_count": 31
  },
  {
   "metadata": {
    "ExecuteTime": {
     "end_time": "2025-07-10T16:24:23.712738Z",
     "start_time": "2025-07-10T16:24:23.699520Z"
    }
   },
   "cell_type": "code",
   "source": [
    "df = df[[\"dr\", \"ele\", \"ele_diff\", \"speed\"]]\n",
    "df = df.fillna(0)\n",
    "df[\"cumulative_dr\"] = df[\"dr\"].cumsum()\n",
    "df"
   ],
   "id": "a8f3baa938701fd7",
   "outputs": [
    {
     "data": {
      "text/plain": [
       "           dr     ele  ele_diff  speed  cumulative_dr\n",
       "0    0.000000  124.63      0.00   0.00       0.000000\n",
       "1    0.958800  124.15     -0.48   0.20       0.958800\n",
       "2    5.752797  122.22     -1.93   1.15       6.711597\n",
       "3   11.675884  122.22      0.00  14.01      18.387480\n",
       "4   32.674573  122.71      0.49  23.53      51.062053\n",
       "..        ...     ...       ...    ...            ...\n",
       "61   2.304015  119.82     -1.44   0.30    2200.383142\n",
       "62   2.305970  121.74      1.92   0.42    2202.689112\n",
       "63   0.300212  122.71      0.97   0.03    2202.989324\n",
       "64   3.928073  124.15      1.44   0.31    2206.917398\n",
       "65   0.890572  122.71     -1.44   0.09    2207.807970\n",
       "\n",
       "[66 rows x 5 columns]"
      ],
      "text/html": [
       "<div>\n",
       "<style scoped>\n",
       "    .dataframe tbody tr th:only-of-type {\n",
       "        vertical-align: middle;\n",
       "    }\n",
       "\n",
       "    .dataframe tbody tr th {\n",
       "        vertical-align: top;\n",
       "    }\n",
       "\n",
       "    .dataframe thead th {\n",
       "        text-align: right;\n",
       "    }\n",
       "</style>\n",
       "<table border=\"1\" class=\"dataframe\">\n",
       "  <thead>\n",
       "    <tr style=\"text-align: right;\">\n",
       "      <th></th>\n",
       "      <th>dr</th>\n",
       "      <th>ele</th>\n",
       "      <th>ele_diff</th>\n",
       "      <th>speed</th>\n",
       "      <th>cumulative_dr</th>\n",
       "    </tr>\n",
       "  </thead>\n",
       "  <tbody>\n",
       "    <tr>\n",
       "      <th>0</th>\n",
       "      <td>0.000000</td>\n",
       "      <td>124.63</td>\n",
       "      <td>0.00</td>\n",
       "      <td>0.00</td>\n",
       "      <td>0.000000</td>\n",
       "    </tr>\n",
       "    <tr>\n",
       "      <th>1</th>\n",
       "      <td>0.958800</td>\n",
       "      <td>124.15</td>\n",
       "      <td>-0.48</td>\n",
       "      <td>0.20</td>\n",
       "      <td>0.958800</td>\n",
       "    </tr>\n",
       "    <tr>\n",
       "      <th>2</th>\n",
       "      <td>5.752797</td>\n",
       "      <td>122.22</td>\n",
       "      <td>-1.93</td>\n",
       "      <td>1.15</td>\n",
       "      <td>6.711597</td>\n",
       "    </tr>\n",
       "    <tr>\n",
       "      <th>3</th>\n",
       "      <td>11.675884</td>\n",
       "      <td>122.22</td>\n",
       "      <td>0.00</td>\n",
       "      <td>14.01</td>\n",
       "      <td>18.387480</td>\n",
       "    </tr>\n",
       "    <tr>\n",
       "      <th>4</th>\n",
       "      <td>32.674573</td>\n",
       "      <td>122.71</td>\n",
       "      <td>0.49</td>\n",
       "      <td>23.53</td>\n",
       "      <td>51.062053</td>\n",
       "    </tr>\n",
       "    <tr>\n",
       "      <th>...</th>\n",
       "      <td>...</td>\n",
       "      <td>...</td>\n",
       "      <td>...</td>\n",
       "      <td>...</td>\n",
       "      <td>...</td>\n",
       "    </tr>\n",
       "    <tr>\n",
       "      <th>61</th>\n",
       "      <td>2.304015</td>\n",
       "      <td>119.82</td>\n",
       "      <td>-1.44</td>\n",
       "      <td>0.30</td>\n",
       "      <td>2200.383142</td>\n",
       "    </tr>\n",
       "    <tr>\n",
       "      <th>62</th>\n",
       "      <td>2.305970</td>\n",
       "      <td>121.74</td>\n",
       "      <td>1.92</td>\n",
       "      <td>0.42</td>\n",
       "      <td>2202.689112</td>\n",
       "    </tr>\n",
       "    <tr>\n",
       "      <th>63</th>\n",
       "      <td>0.300212</td>\n",
       "      <td>122.71</td>\n",
       "      <td>0.97</td>\n",
       "      <td>0.03</td>\n",
       "      <td>2202.989324</td>\n",
       "    </tr>\n",
       "    <tr>\n",
       "      <th>64</th>\n",
       "      <td>3.928073</td>\n",
       "      <td>124.15</td>\n",
       "      <td>1.44</td>\n",
       "      <td>0.31</td>\n",
       "      <td>2206.917398</td>\n",
       "    </tr>\n",
       "    <tr>\n",
       "      <th>65</th>\n",
       "      <td>0.890572</td>\n",
       "      <td>122.71</td>\n",
       "      <td>-1.44</td>\n",
       "      <td>0.09</td>\n",
       "      <td>2207.807970</td>\n",
       "    </tr>\n",
       "  </tbody>\n",
       "</table>\n",
       "<p>66 rows × 5 columns</p>\n",
       "</div>"
      ]
     },
     "execution_count": 26,
     "metadata": {},
     "output_type": "execute_result"
    }
   ],
   "execution_count": 26
  },
  {
   "metadata": {
    "ExecuteTime": {
     "end_time": "2025-07-10T16:24:24.416658Z",
     "start_time": "2025-07-10T16:24:24.330344Z"
    }
   },
   "cell_type": "code",
   "source": [
    "fig, ax = plt.subplots(figsize=(12, 4))\n",
    "\n",
    "ax.plot(df[\"cumulative_dr\"], df[\"ele\"])\n",
    "plt.show()"
   ],
   "id": "d1e4f080f3ebba6",
   "outputs": [
    {
     "data": {
      "text/plain": [
       "<Figure size 1200x400 with 1 Axes>"
      ],
      "image/png": "[encoded data removed]"
     },
     "metadata": {},
     "output_type": "display_data"
    }
   ],
   "execution_count": 27
  },
  {
   "cell_type": "code",
   "id": "ffde43b9",
   "metadata": {
    "ExecuteTime": {
     "end_time": "2025-07-09T22:08:21.498654Z",
     "start_time": "2025-07-09T22:08:21.493667Z"
    }
   },
   "source": [
    "# with open(f\"{track_name}.txt\", \"w\", encoding=\"UTF-8\") as f:\n",
    "#     f.write(f\"Поход {track_name}\\n\"\n",
    "#             f\"Пройденное расстояние - {distance} м\\n\"\n",
    "#             f\"Средняя скорость - {avg_speed} км/ч\\n\"\n",
    "#             f\"Максимальная скорость - {max_speed} км/ч\\n\"\n",
    "#             f\"Время похода - {hours} ч, {minutes} м, {seconds} с\\n\"\n",
    "#             f\"Самая большая высота - {max_ele} м\\n\"\n",
    "#             f\"Самая маленькая высота - {min_ele} м\\n\"\n",
    "#             f\"Спуск - {down_distance} м\\n\"\n",
    "#             f\"Подъем - {up_distance} м\\n\"\n",
    "#             )\n"
   ],
   "outputs": [],
   "execution_count": 81
  },
  {
   "cell_type": "code",
   "execution_count": null,
   "id": "6fb93847",
   "metadata": {},
   "outputs": [],
   "source": []
  }
 ],
 "metadata": {
  "kernelspec": {
   "display_name": ".venv",
   "language": "python",
   "name": "python3"
  },
  "language_info": {
   "codemirror_mode": {
    "name": "ipython",
    "version": 3
   },
   "file_extension": ".py",
   "mimetype": "text/x-python",
   "name": "python",
   "nbconvert_exporter": "python",
   "pygments_lexer": "ipython3",
   "version": "3.11.0"
  }
 },
 "nbformat": 4,
 "nbformat_minor": 5
}
